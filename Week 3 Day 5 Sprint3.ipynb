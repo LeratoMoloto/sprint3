{
 "cells": [
  {
   "cell_type": "code",
   "execution_count": 4,
   "metadata": {},
   "outputs": [
    {
     "name": "stdout",
     "output_type": "stream",
     "text": [
      "product: Chips\n",
      "Quantity: 800\n",
      "SellingPrice: 16\n",
      "cost: 10\n",
      "markup: 60 \n",
      "\n",
      "product: Juice\n",
      "Quantity: 1021\n",
      "SellingPrice: 28\n",
      "cost: 20\n",
      "markup: 40 \n",
      "\n",
      "product: Chocolates\n",
      "Quantity: 979\n",
      "SellingPrice: 35\n",
      "cost: 25\n",
      "markup: 40 \n",
      "\n",
      "product: Sweets\n",
      "Quantity: 1041\n",
      "SellingPrice: 15\n",
      "cost: 7\n",
      "markup: 144,28 \n",
      "\n",
      "product: Fruits\n",
      "Quantity: 768\n",
      "SellingPrice: 30\n",
      "cost: 16\n",
      "markup: 87,5 \n",
      "\n",
      "product: Veggies\n",
      "Quantity: 905\n",
      "SellingPrice: 25\n",
      "cost: 10\n",
      "markup: 15 \n",
      "\n",
      "product: Wine\n",
      "Quantity: 542\n",
      "SellingPrice: 180\n",
      "cost: 82\n",
      "markup: 119,51 \n",
      "\n",
      "product: Baked beans\n",
      "Quantity: 180\n",
      "SellingPrice: 28\n",
      "cost: 12\n",
      "markup: 133,33 \n",
      "\n",
      "product: Toilet paper\n",
      "Quantity: 50\n",
      "SellingPrice: 75\n",
      "cost: 35\n",
      "markup: 114,28 \n",
      "\n",
      "product: Body lotion\n",
      "Quantity: 130\n",
      "SellingPrice: 60\n",
      "cost: 40\n",
      "markup: 50 \n",
      "\n",
      "product: Meat\n",
      "Quantity: 100\n",
      "SellingPrice: 95\n",
      "cost: 60\n",
      "markup: 58,33 \n",
      "\n",
      "product: Ice cream\n",
      "Quantity: 603\n",
      "SellingPrice: 60\n",
      "cost: 32\n",
      "markup: 87,5 \n",
      "\n",
      "product: Cheese\n",
      "Quantity: 301\n",
      "SellingPrice: 45\n",
      "cost: 32\n",
      "markup: 40,63 \n",
      "\n",
      "product: Sunlight\n",
      "Quantity: 150\n",
      "SellingPrice: 30\n",
      "cost: 18\n",
      "markup: 66,67 \n",
      "\n",
      "product: Roll on\n",
      "Quantity: 200\n",
      "SellingPrice: 30\n",
      "cost: 15\n",
      "markup: 100 \n",
      "\n",
      "product: Toothpaste\n",
      "Quantity: 305\n",
      "SellingPrice: 35\n",
      "cost: 20\n",
      "markup: 75 \n",
      "\n"
     ]
    }
   ],
   "source": [
    "import pymysql\n",
    "\n",
    "db = pymysql.connect(user = 'root', password = 'Password1234', database = 'product_infor')\n",
    "\n",
    "# prepare a cursor object using cursor() method\n",
    "cursor = db.cursor()\n",
    "\n",
    "sql = \"SELECT * FROM product_infor.sprint3\"\n",
    "\n",
    "cursor.execute(sql)\n",
    "\n",
    "# Fetch all the rows in a list of lists.\n",
    "results = cursor.fetchall()\n",
    "for row in results:\n",
    "\n",
    "    print(\"product: %s\\nQuantity: %s\\nSellingPrice: %s\\ncost: %s\\nmarkup: %s \\n\" % (row[0],row[1],row[2],row[3],row[4]))\n",
    "\n",
    "# Now print fetched result\n",
    "cursor.execute(sql)\n",
    "# disconnect from server\n",
    "db.close()\n",
    "#showing everything in my database sprint3"
   ]
  },
  {
   "cell_type": "code",
   "execution_count": 5,
   "metadata": {},
   "outputs": [
    {
     "name": "stdout",
     "output_type": "stream",
     "text": [
      "product: Chips\n",
      "Quantity: 800\n",
      "SellingPrice: 16\n",
      "cost: 10\n",
      "markup: 60 \n",
      "\n"
     ]
    }
   ],
   "source": [
    "import pymysql\n",
    "\n",
    "db = pymysql.connect(user = 'root', password = 'Password1234', database = 'product_infor')\n",
    "\n",
    "# prepare a cursor object using cursor() method\n",
    "cursor = db.cursor()\n",
    "\n",
    "sql = \"SELECT * FROM product_infor.chips\"\n",
    "\n",
    "cursor.execute(sql)\n",
    "\n",
    "# Fetch all the rows in a list of lists.\n",
    "results = cursor.fetchall()\n",
    "for row in results:\n",
    "\n",
    "    print(\"product: %s\\nQuantity: %s\\nSellingPrice: %s\\ncost: %s\\nmarkup: %s \\n\" % (row[0],row[1],row[2],row[3],row[4]))\n",
    "\n",
    "# Now print fetched result\n",
    "cursor.execute(sql)\n",
    "# disconnect from server\n",
    "db.close()"
   ]
  },
  {
   "cell_type": "code",
   "execution_count": 6,
   "metadata": {},
   "outputs": [
    {
     "name": "stdout",
     "output_type": "stream",
     "text": [
      "product: Juice\n",
      "Quantity: 1021\n",
      "SellingPrice: 28\n",
      "cost: 20\n",
      "markup: 40 \n",
      "\n"
     ]
    }
   ],
   "source": [
    "import pymysql\n",
    "\n",
    "db = pymysql.connect(user = 'root', password = 'Password1234', database = 'product_infor')\n",
    "\n",
    "# prepare a cursor object using cursor() method\n",
    "cursor = db.cursor()\n",
    "\n",
    "sql = \"SELECT * FROM product_infor.Juice\"\n",
    "\n",
    "cursor.execute(sql)\n",
    "\n",
    "# Fetch all the rows in a list of lists.\n",
    "results = cursor.fetchall()\n",
    "for row in results:\n",
    "\n",
    "    print(\"product: %s\\nQuantity: %s\\nSellingPrice: %s\\ncost: %s\\nmarkup: %s \\n\" % (row[0],row[1],row[2],row[3],row[4]))\n",
    "\n",
    "# Now print fetched result\n",
    "cursor.execute(sql)\n",
    "# disconnect from server\n",
    "db.close()"
   ]
  },
  {
   "cell_type": "code",
   "execution_count": 7,
   "metadata": {},
   "outputs": [
    {
     "name": "stdout",
     "output_type": "stream",
     "text": [
      "product: Chocolates\n",
      "Quantity: 979\n",
      "SellingPrice: 35\n",
      "cost: 25\n",
      "markup: 40 \n",
      "\n"
     ]
    }
   ],
   "source": [
    "import pymysql\n",
    "\n",
    "db = pymysql.connect(user = 'root', password = 'Password1234', database = 'product_infor')\n",
    "\n",
    "# prepare a cursor object using cursor() method\n",
    "cursor = db.cursor()\n",
    "\n",
    "sql = \"SELECT * FROM product_infor.Chocolates\"\n",
    "\n",
    "cursor.execute(sql)\n",
    "\n",
    "# Fetch all the rows in a list of lists.\n",
    "results = cursor.fetchall()\n",
    "for row in results:\n",
    "\n",
    "    print(\"product: %s\\nQuantity: %s\\nSellingPrice: %s\\ncost: %s\\nmarkup: %s \\n\" % (row[0],row[1],row[2],row[3],row[4]))\n",
    "\n",
    "# Now print fetched result\n",
    "cursor.execute(sql)\n",
    "# disconnect from server\n",
    "db.close()"
   ]
  },
  {
   "cell_type": "code",
   "execution_count": 8,
   "metadata": {},
   "outputs": [
    {
     "name": "stdout",
     "output_type": "stream",
     "text": [
      "product: Sweets\n",
      "Quantity: 1041\n",
      "SellingPrice: 15\n",
      "cost: 7\n",
      "markup: 144,28 \n",
      "\n"
     ]
    }
   ],
   "source": [
    "import pymysql\n",
    "\n",
    "db = pymysql.connect(user = 'root', password = 'Password1234', database = 'product_infor')\n",
    "\n",
    "# prepare a cursor object using cursor() method\n",
    "cursor = db.cursor()\n",
    "\n",
    "sql = \"SELECT * FROM product_infor.Sweets\"\n",
    "\n",
    "cursor.execute(sql)\n",
    "\n",
    "# Fetch all the rows in a list of lists.\n",
    "results = cursor.fetchall()\n",
    "for row in results:\n",
    "\n",
    "    print(\"product: %s\\nQuantity: %s\\nSellingPrice: %s\\ncost: %s\\nmarkup: %s \\n\" % (row[0],row[1],row[2],row[3],row[4]))\n",
    "\n",
    "# Now print fetched result\n",
    "cursor.execute(sql)\n",
    "# disconnect from server\n",
    "db.close()"
   ]
  },
  {
   "cell_type": "code",
   "execution_count": 9,
   "metadata": {},
   "outputs": [
    {
     "name": "stdout",
     "output_type": "stream",
     "text": [
      "product: Fruits\n",
      "Quantity: 768\n",
      "SellingPrice: 30\n",
      "cost: 16\n",
      "markup: 87,5 \n",
      "\n"
     ]
    }
   ],
   "source": [
    "import pymysql\n",
    "\n",
    "db = pymysql.connect(user = 'root', password = 'Password1234', database = 'product_infor')\n",
    "\n",
    "# prepare a cursor object using cursor() method\n",
    "cursor = db.cursor()\n",
    "\n",
    "sql = \"SELECT * FROM product_infor.Fruits\"\n",
    "\n",
    "cursor.execute(sql)\n",
    "\n",
    "# Fetch all the rows in a list of lists.\n",
    "results = cursor.fetchall()\n",
    "for row in results:\n",
    "\n",
    "    print(\"product: %s\\nQuantity: %s\\nSellingPrice: %s\\ncost: %s\\nmarkup: %s \\n\" % (row[0],row[1],row[2],row[3],row[4]))\n",
    "\n",
    "# Now print fetched result\n",
    "cursor.execute(sql)\n",
    "# disconnect from server\n",
    "db.close()"
   ]
  },
  {
   "cell_type": "code",
   "execution_count": null,
   "metadata": {},
   "outputs": [],
   "source": []
  }
 ],
 "metadata": {
  "kernelspec": {
   "display_name": "Python 3",
   "language": "python",
   "name": "python3"
  },
  "language_info": {
   "codemirror_mode": {
    "name": "ipython",
    "version": 3
   },
   "file_extension": ".py",
   "mimetype": "text/x-python",
   "name": "python",
   "nbconvert_exporter": "python",
   "pygments_lexer": "ipython3",
   "version": "3.7.4"
  }
 },
 "nbformat": 4,
 "nbformat_minor": 2
}
